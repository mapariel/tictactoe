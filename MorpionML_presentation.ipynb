{
 "cells": [
  {
   "cell_type": "markdown",
   "metadata": {},
   "source": [
    "# Tic Tac Toe. Implementation ofa M.L. algorithm\n",
    "\n",
    "## Play a game of tic tac toe"
   ]
  },
  {
   "cell_type": "code",
   "execution_count": 2,
   "metadata": {
    "deletable": false,
    "editable": false
   },
   "outputs": [
    {
     "name": "stderr",
     "output_type": "stream",
     "text": [
      "Using TensorFlow backend.\n"
     ]
    },
    {
     "name": "stdout",
     "output_type": "stream",
     "text": [
      "    +-----------+\n",
      "0 _ |   |   |   | \n",
      "    +-----------+\n",
      "1 _ |   |   |   | \n",
      "    +-----------+\n",
      "2 _ |   |   |   | \n",
      "    +-----------+\n",
      "      0   1   2 \n",
      "    next player  : O\n"
     ]
    }
   ],
   "source": [
    "import numpy as np\n",
    "import morpion as mp\n",
    "morpion = mp.Morpion(dim=2,side=3)\n",
    "\n",
    "print(morpion.board_as_string())"
   ]
  },
  {
   "cell_type": "code",
   "execution_count": 3,
   "metadata": {
    "deletable": false,
    "editable": false,
    "scrolled": true
   },
   "outputs": [
    {
     "name": "stdout",
     "output_type": "stream",
     "text": [
      "    +-----------+\n",
      "0 _ |   |   |   | \n",
      "    +-----------+\n",
      "1 _ |   |   | O | \n",
      "    +-----------+\n",
      "2 _ |   |   |   | \n",
      "    +-----------+\n",
      "      0   1   2 \n",
      "    next player  : X\n"
     ]
    }
   ],
   "source": [
    "morpion.play_random()\n",
    "print(morpion.board_as_string())"
   ]
  },
  {
   "cell_type": "code",
   "execution_count": 4,
   "metadata": {
    "deletable": false,
    "editable": false
   },
   "outputs": [
    {
     "name": "stdout",
     "output_type": "stream",
     "text": [
      "    +-----------+\n",
      "0 _ | O | O | X | \n",
      "    +-----------+\n",
      "1 _ | X | O | O | \n",
      "    +-----------+\n",
      "2 _ | X | X | X | \n",
      "    +-----------+\n",
      "      0   1   2 \n",
      "    Game over ! \n",
      "X is the winner.\n"
     ]
    }
   ],
   "source": [
    "def game(dim=2,side=3):\n",
    "    morpion = mp.Morpion(dim=dim,side=side)\n",
    "    while True:\n",
    "        morpion.play_random()\n",
    "        if morpion.is_game_over: break\n",
    "    return morpion\n",
    "\n",
    "morpion = game()\n",
    "print(morpion.board_as_string())"
   ]
  },
  {
   "cell_type": "markdown",
   "metadata": {
    "deletable": false,
    "editable": false
   },
   "source": [
    "## Let's get the features\n",
    "\n",
    "When there is a winner, the features shows the state of the board before the last (and winning) move (+1 for the mark of the winner, -1 for the mark of the loser, 0 if the cell is empty).\n",
    "\n",
    "The label correponds to the cell of the winning move."
   ]
  },
  {
   "cell_type": "code",
   "execution_count": 5,
   "metadata": {
    "deletable": false,
    "editable": false
   },
   "outputs": [],
   "source": [
    "import morpionML as mpl "
   ]
  },
  {
   "cell_type": "code",
   "execution_count": 6,
   "metadata": {
    "deletable": false,
    "editable": false
   },
   "outputs": [
    {
     "name": "stdout",
     "output_type": "stream",
     "text": [
      "(array([[ 0.,  1., -1.,  0.,  1.,  0., -1.,  0.,  0.]]), 7)\n",
      "    +-----------+\n",
      "0 _ |   | X | O | \n",
      "    +-----------+\n",
      "1 _ |   | X |   | \n",
      "    +-----------+\n",
      "2 _ | O |   |   | \n",
      "    +-----------+\n",
      "      0   1   2 \n",
      "    next player  : X\n"
     ]
    }
   ],
   "source": [
    "morpion = game(dim=2,side=3)\n",
    "\n",
    "print(mpl.get_features_label(morpion))\n",
    "print(morpion.board_as_string())"
   ]
  },
  {
   "cell_type": "markdown",
   "metadata": {},
   "source": [
    "### Run a  simulation to get the learning sample\n",
    "\n",
    "To get the training set (with m sample), we are going to play m games (with a winner) and get X (of dim=(m,n)) , the features, and y (of dim=(m,1)) the labels.\n",
    "\n",
    "Let's start with only m=10 sample, in order to see what happens :\n"
   ]
  },
  {
   "cell_type": "code",
   "execution_count": 7,
   "metadata": {
    "deletable": false,
    "editable": false
   },
   "outputs": [
    {
     "name": "stdout",
     "output_type": "stream",
     "text": [
      "[[ 1. -1. -1.  0.  1.  1.  0. -1. -1.]\n",
      " [-1.  1. -1. -1.  1. -1.  1.  0.  1.]\n",
      " [-1.  0.  1. -1.  0.  0.  1.  0.  0.]\n",
      " [ 0.  1. -1. -1. -1.  0.  1.  1.  0.]\n",
      " [ 1.  0.  1. -1. -1.  0.  0. -1.  1.]\n",
      " [ 1. -1. -1.  1.  0.  1. -1. -1.  1.]\n",
      " [-1.  0.  0.  0.  1.  1. -1. -1.  1.]\n",
      " [ 1.  1. -1.  0. -1.  1.  1. -1. -1.]\n",
      " [-1.  1.  1.  0.  1. -1.  0.  0. -1.]\n",
      " [ 1.  0. -1.  0.  0.  1. -1. -1.  1.]]\n",
      "[[3.]\n",
      " [7.]\n",
      " [4.]\n",
      " [8.]\n",
      " [1.]\n",
      " [4.]\n",
      " [3.]\n",
      " [3.]\n",
      " [6.]\n",
      " [4.]]\n"
     ]
    }
   ],
   "source": [
    "X,y = mpl.simulation(side=3,dim=2,m=10)\n",
    "print(X)\n",
    "print(y)"
   ]
  },
  {
   "cell_type": "markdown",
   "metadata": {
    "deletable": false,
    "editable": false
   },
   "source": [
    "### and train our M.L., by using logistic model"
   ]
  },
  {
   "cell_type": "code",
   "execution_count": 15,
   "metadata": {
    "deletable": false,
    "editable": false
   },
   "outputs": [],
   "source": [
    "import logistic as lg\n",
    "\n",
    "dim=2\n",
    "side=3\n",
    "nb_labels = side**dim\n",
    "\n",
    "model = lg.Logistic(bias = True,lam = 0,nb_labels = nb_labels)\n",
    "model.fit(X,y)\n",
    "\n"
   ]
  },
  {
   "cell_type": "code",
   "execution_count": 9,
   "metadata": {
    "deletable": false,
    "editable": false
   },
   "outputs": [],
   "source": [
    "X,y = mpl.simulation(side=3,dim=2,m=1000)\n",
    "model = lg.Logistic(bias = True,lam = 0,nb_labels = nb_labels)\n",
    "model.fit(X,y)"
   ]
  },
  {
   "cell_type": "code",
   "execution_count": 10,
   "metadata": {
    "deletable": false,
    "editable": false
   },
   "outputs": [
    {
     "name": "stdout",
     "output_type": "stream",
     "text": [
      "    +-----------+\n",
      "0 _ | X |   | O | \n",
      "    +-----------+\n",
      "1 _ | O | O | X | \n",
      "    +-----------+\n",
      "2 _ | X | O | X | \n",
      "    +-----------+\n",
      "      0   1   2 \n",
      "    next player  : O\n",
      "[[0.123 0.324 0.019]\n",
      " [0.005 0.208 0.139]\n",
      " [0.269 0.015 0.092]]\n"
     ]
    }
   ],
   "source": [
    "morpion = game(side=side,dim=dim)\n",
    "x,y = mpl.get_features_label(morpion)\n",
    "\n",
    "print(morpion.board_as_string())\n",
    "probas = np.round(model.predict(x),3)\n",
    "\n",
    "probas.shape=(3,3)\n",
    "print(probas)"
   ]
  },
  {
   "cell_type": "markdown",
   "metadata": {
    "deletable": false,
    "editable": false
   },
   "source": [
    "### Learning curve\n",
    "\n",
    "Now it's time to optimize the learning algorithm. We are going to create a learning curve."
   ]
  },
  {
   "cell_type": "code",
   "execution_count": 11,
   "metadata": {
    "deletable": false,
    "editable": false
   },
   "outputs": [],
   "source": [
    "X,y = mpl.simulation(side=3,dim=2,m=10000)\n",
    "X_val,y_val = mpl.simulation(side=3,dim=2,m=2000)"
   ]
  },
  {
   "cell_type": "code",
   "execution_count": 16,
   "metadata": {
    "deletable": false,
    "editable": false
   },
   "outputs": [],
   "source": [
    "datas = np.array([])\n",
    "datas.shape = (5,0)\n",
    "# first row : i (number of samples)\n",
    "# second row : loss for the training sample\n",
    "# third tow  : loss for the validation sample\n",
    "# row 4      : accuracy (training)\n",
    "# row 5      : accuracy (validation)\n",
    "\n",
    "dim=2\n",
    "side=3\n",
    "nb_labels = side**dim\n",
    "\n",
    "model = lg.Logistic(bias = True,lam = 0,nb_labels = nb_labels)\n",
    "\n",
    "\n",
    "for i in range(200,10000,200):\n",
    "    X_i = X[1:i,:]\n",
    "    y_i = y[1:i]\n",
    "    model.fit(X_i,y_i)\n",
    "    score_train = model.evaluate(X_i,y_i)\n",
    "    score_val = model.evaluate(X_val,y_val)\n",
    "    column = np.array([[i],[score_train[0]],[score_val[0]],[score_train[1]],[score_val[1]]])\n",
    "    datas = np.hstack((datas,column)) \n",
    "    "
   ]
  },
  {
   "cell_type": "code",
   "execution_count": 17,
   "metadata": {
    "deletable": false,
    "editable": false
   },
   "outputs": [
    {
     "data": {
      "image/png": "[encoded data removed]",
      "text/plain": [
       "<Figure size 648x216 with 2 Axes>"
      ]
     },
     "metadata": {
      "needs_background": "light"
     },
     "output_type": "display_data"
    }
   ],
   "source": [
    "import matplotlib.pyplot as plt\n",
    "\n",
    "plt.figure(figsize=(9, 3))\n",
    "plt.subplot(121)\n",
    "plt.plot(datas[0,:], datas[1,:], label='loss (training)')\n",
    "plt.plot(datas[0,:], datas[2,:], label='loss (validation)')\n",
    "plt.xlabel('size of the training set')\n",
    "plt.ylabel('loss')\n",
    "plt.legend()\n",
    "plt.title('learning curve')\n",
    "plt.subplot(122)\n",
    "plt.plot(datas[0,:], datas[3,:], label='accuracy (training)')\n",
    "plt.plot(datas[0,:], datas[4,:], label='accuracy (validation)')\n",
    "plt.xlabel('size of the training set')\n",
    "plt.ylabel('loss')\n",
    "plt.legend()\n",
    "plt.show()\n",
    "\n"
   ]
  },
  {
   "cell_type": "markdown",
   "metadata": {
    "deletable": false,
    "editable": false
   },
   "source": [
    "Conclusion : \n",
    "* For a sample of 10 000, we can see that losses for the validation and the trainig samples are very close to each other. It seems that the algorithm has learned what it can. No need to train it more.\n",
    "* The accuracy is too low, around 30% execpt if the size of the training sample is very small (less than 100). The algorithm is clearly underfitting.\n",
    "\n",
    "Logistic regression doesn't seem to be appropriate. It could be possible to improve it by adding new features (polynomial features...). We are also going to implement a deep learning algorithm with keras.\n",
    "\n",
    "But to start, let's use logistic regression model with a sample of 3000.\n",
    "\n",
    "You can play agains this AI and see how ot performs :\n",
    "http://mapariel.pythonanywhere.com/tictactoe/"
   ]
  },
  {
   "cell_type": "code",
   "execution_count": 14,
   "metadata": {
    "deletable": false,
    "editable": false
   },
   "outputs": [],
   "source": [
    "X = X[1:3000,:]\n",
    "y = y[1:3000]\n",
    "model.fit(X,y)\n",
    "model.save('logistic_3_2.csv')"
   ]
  }
 ],
 "metadata": {
  "celltoolbar": "Éditer les Méta-Données",
  "kernelspec": {
   "display_name": "Python 3",
   "language": "python",
   "name": "python3"
  },
  "language_info": {
   "codemirror_mode": {
    "name": "ipython",
    "version": 3
   },
   "file_extension": ".py",
   "mimetype": "text/x-python",
   "name": "python",
   "nbconvert_exporter": "python",
   "pygments_lexer": "ipython3",
   "version": "3.7.0"
  }
 },
 "nbformat": 4,
 "nbformat_minor": 2
}
